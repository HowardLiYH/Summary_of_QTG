{
 "cells": [
  {
   "cell_type": "code",
   "execution_count": 2,
   "metadata": {},
   "outputs": [],
   "source": [
    "import warnings\n",
    "warnings.filterwarnings('ignore')\n",
    "import numpy as np\n",
    "import pandas as pd\n",
    "import matplotlib.pyplot as plt"
   ]
  },
  {
   "cell_type": "markdown",
   "metadata": {},
   "source": [
    "### 趋势动能因子"
   ]
  },
  {
   "cell_type": "markdown",
   "metadata": {},
   "source": [
    "- 过去 K 天的累计收益率"
   ]
  },
  {
   "cell_type": "markdown",
   "metadata": {},
   "source": [
    "###### Potential Questions:\n",
    "###### 1) What kind of data will I receieve to input into the functions below? Which form of data? Or I do not have to worry about this now since it will be standardized sooner or later and for now I just focused on getting the logic correct?"
   ]
  },
  {
   "cell_type": "code",
   "execution_count": 3,
   "metadata": {},
   "outputs": [],
   "source": [
    "def T_Mom(df, prices_column, K):\n",
    "    \"\"\"\n",
    "    Calculate the raw momentum factor - cumulative returns of the past K days.\n",
    "\n",
    "    Parameters:\n",
    "    df (pandas.DataFrame): A DataFrame containing the prices of the asset with a date index.\n",
    "    prices_column (str): The name of the column in the DataFrame that contains the prices.\n",
    "    K (int): The number of past days.\n",
    "\n",
    "    Returns:\n",
    "    float: The value of the raw momentum factor.\n",
    "    \"\"\"\n",
    "    if len(df) < K + 1:\n",
    "        raise ValueError(\"The length of the DataFrame must be at least K + 1\")\n",
    "\n",
    "    current_price = df[prices_column].iloc[-1]\n",
    "    past_price = df[prices_column].iloc[-K-1]\n",
    "\n",
    "    raw_momentum_factor = current_price/past_price - 1\n",
    "    return raw_momentum_factor\n"
   ]
  },
  {
   "cell_type": "code",
   "execution_count": 4,
   "metadata": {},
   "outputs": [
    {
     "name": "stdout",
     "output_type": "stream",
     "text": [
      "Moving Average\n",
      "Moving Average\n"
     ]
    }
   ],
   "source": [
    "class Operation:\n",
    "    def __init__(self, op_name):\n",
    "        self.op_name = op_name\n",
    "\n",
    "    def __str__(self):\n",
    "        return self.op_name\n",
    "\n",
    "# Create an instance of the Operation class\n",
    "op_instance = Operation(\"Moving Average\")\n",
    "\n",
    "# Printing the instance will use the __str__() method to get the string representation\n",
    "print(op_instance)  # Output: \"Moving Average\"\n",
    "\n",
    "# Using the str() function will also use the __str__() method\n",
    "op_str = str(op_instance)\n",
    "print(op_str)  # Output: \"Moving Average\"\n"
   ]
  },
  {
   "cell_type": "code",
   "execution_count": null,
   "metadata": {},
   "outputs": [],
   "source": []
  }
 ],
 "metadata": {
  "kernelspec": {
   "display_name": "Python 3",
   "language": "python",
   "name": "python3"
  },
  "language_info": {
   "codemirror_mode": {
    "name": "ipython",
    "version": 3
   },
   "file_extension": ".py",
   "mimetype": "text/x-python",
   "name": "python",
   "nbconvert_exporter": "python",
   "pygments_lexer": "ipython3",
   "version": "3.8.5"
  },
  "orig_nbformat": 4
 },
 "nbformat": 4,
 "nbformat_minor": 2
}
